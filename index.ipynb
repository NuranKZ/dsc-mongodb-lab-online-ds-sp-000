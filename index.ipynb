{
 "cells": [
  {
   "cell_type": "markdown",
   "metadata": {
    "toc": true
   },
   "source": [
    "<h1>Table of Contents<span class=\"tocSkip\"></span></h1>\n",
    "<div class=\"toc\"><ul class=\"toc-item\"><li><span><a href=\"#Introduction\" data-toc-modified-id=\"Introduction-1\"><span class=\"toc-item-num\">1&nbsp;&nbsp;</span>Introduction</a></span></li><li><span><a href=\"#Objectives\" data-toc-modified-id=\"Objectives-2\"><span class=\"toc-item-num\">2&nbsp;&nbsp;</span>Objectives</a></span></li><li><span><a href=\"#Getting-Started\" data-toc-modified-id=\"Getting-Started-3\"><span class=\"toc-item-num\">3&nbsp;&nbsp;</span>Getting Started</a></span></li><li><span><a href=\"#Connecting-to-the-MongoDB-Database\" data-toc-modified-id=\"Connecting-to-the-MongoDB-Database-4\"><span class=\"toc-item-num\">4&nbsp;&nbsp;</span>Connecting to the MongoDB Database</a></span></li><li><span><a href=\"#Creating-a-Collection\" data-toc-modified-id=\"Creating-a-Collection-5\"><span class=\"toc-item-num\">5&nbsp;&nbsp;</span>Creating a Collection</a></span></li><li><span><a href=\"#Adding-Some-Data\" data-toc-modified-id=\"Adding-Some-Data-6\"><span class=\"toc-item-num\">6&nbsp;&nbsp;</span>Adding Some Data</a></span></li><li><span><a href=\"#Querying-and-Filtering\" data-toc-modified-id=\"Querying-and-Filtering-7\"><span class=\"toc-item-num\">7&nbsp;&nbsp;</span>Querying and Filtering</a></span></li><li><span><a href=\"#Updating-a-Record\" data-toc-modified-id=\"Updating-a-Record-8\"><span class=\"toc-item-num\">8&nbsp;&nbsp;</span>Updating a Record</a></span></li><li><span><a href=\"#Summary\" data-toc-modified-id=\"Summary-9\"><span class=\"toc-item-num\">9&nbsp;&nbsp;</span>Summary</a></span></li></ul></div>"
   ]
  },
  {
   "cell_type": "markdown",
   "metadata": {},
   "source": [
    "# MongoDB - Lab\n",
    "\n",
    "## Introduction\n",
    "\n",
    "In this lesson, we'll get some hands-on experience with MongoDB!\n",
    "\n",
    "## Objectives\n",
    "You will be able to:\n",
    "-  Use MongoDB, a popular NoSQL database\n",
    "-  Create, Read, Update, and Delete Information in MongoDB\n",
    "\n",
    "## Getting Started\n",
    "\n",
    "To begin this lab, make sure that you start up the mongoDB server in your terminal first!\n",
    "\n",
    "\n",
    "## Connecting to the MongoDB Database\n",
    "\n",
    "In the cell below, import the appropriate library and connect to the mongoDB server. Create a new database called `'lab_db'`."
   ]
  },
  {
   "cell_type": "code",
   "execution_count": 1,
   "metadata": {},
   "outputs": [],
   "source": [
    "import pymongo\n",
    "myclient = pymongo.MongoClient(\"mongodb://localhost:27017/\")\n",
    "mydb = myclient['lab_db']"
   ]
  },
  {
   "cell_type": "markdown",
   "metadata": {},
   "source": [
    "## Creating a Collection\n",
    "\n",
    "Now, create a collection called `'lab_collection'` inside `'lab_db'`."
   ]
  },
  {
   "cell_type": "code",
   "execution_count": 3,
   "metadata": {},
   "outputs": [
    {
     "name": "stdout",
     "output_type": "stream",
     "text": [
      "['admin', 'config', 'example_database', 'local', 'test']\n"
     ]
    }
   ],
   "source": [
    "mycollection = mydb['lab_collection']\n",
    "print(myclient.list_database_names())"
   ]
  },
  {
   "cell_type": "markdown",
   "metadata": {},
   "source": [
    "## Adding Some Data\n",
    "\n",
    "Now, we're going to add some example records into our database. In the cells below, create dictionary representations of the following customer records:\n",
    "\n",
    "\n",
    "|     Name     |            Email           |  Mailing_Address  | Balance |                         Notes                         |\n",
    "|:------------:|:--------------------------:|:-----------------:|:-------:|:-----------------------------------------------------:|\n",
    "|  John Smith  |    j.smith@thesmiths.com   | 123 mulberry lane |   0.0   |    Called technical support, issue not yet resolved   |\n",
    "|  Jane Smith  |  jane_smith@thesmiths.com  |         Null          |  25.00  |                   Null                                    |\n",
    "|  Adam Enbar  | adam@theflatironschool.com |    11 Broadway    |  14.99  |           Set up on recurring billing cycle           |\n",
    "| Avi Flombaum |  avi@theflatironschool.com |    11 Broadway    |   0.0   |                   Null                                    |\n",
    "|   Steven S.  |     steven.s@gmail.net     |         Null          |  -20.23 | Refunded for overpayment due to price match guarantee |\n",
    "\n",
    "\n",
    "Your first challenge is to take all of the data in the table above and create the corresponding documents and add then to our mongo database. Note that fields that contain 'Null' should not be included in the document (recall that since mongo is schema-less, each document can be different). \n",
    "\n",
    "Create the documents from the table listed above, and then use `insert_many()` to insert them into the collection."
   ]
  },
  {
   "cell_type": "code",
   "execution_count": 4,
   "metadata": {},
   "outputs": [],
   "source": [
    "customer_1 = {'Name': 'John Smith', 'Email': 'j.smith@thesmiths.com', 'Mailing_Address': '123 mulberry lane',\n",
    "              'Balance': 0.0, 'Notes': 'Called technical support, issue not yet resolved.'}\n",
    "customer_2 = {'Name': 'Jane Smith', 'Email': 'jane_smith@thesmiths.com', 'Balance': 25.0}\n",
    "customer_3 = {'Name': 'Adam Enbar', 'Email': 'adam@theflatironschool.com', 'Mailing_Address': '11 Broadway',\n",
    "              'Balance': 14.99, 'Notes': 'Set up on recurring billing cycle.'}\n",
    "customer_4 = {'Name': 'Avi Flombaum', 'Email': 'avi@theflatironschool.com', 'Mailing_Address': '11 Broadway',\n",
    "              'Balance': 0.0}\n",
    "customer_5 = {'Name': 'Steven S.', 'Email': 'steven.s@gmail.net', 'Balance': -20.23,\n",
    "              'Notes': 'Refunded for overpayment due to price match guarantee.'}\n",
    "\n",
    "all_records = [customer_1, customer_2, customer_3, customer_4, customer_5]\n",
    "\n",
    "insertion_results = mycollection.insert_many(all_records)"
   ]
  },
  {
   "cell_type": "markdown",
   "metadata": {},
   "source": [
    "Now, access the appropriate attribute from the results object returned from the insertion to see the unique IDs for each record inserted, so that we can confirm each were inserted correctly. "
   ]
  },
  {
   "cell_type": "code",
   "execution_count": 10,
   "metadata": {},
   "outputs": [
    {
     "name": "stdout",
     "output_type": "stream",
     "text": [
      "{'_id': ObjectId('5d2b6fae65bf505ded7c9860')}\n",
      "{'_id': ObjectId('5d2b6fae65bf505ded7c9861')}\n",
      "{'_id': ObjectId('5d2b6fae65bf505ded7c9862')}\n",
      "{'_id': ObjectId('5d2b6fae65bf505ded7c9863')}\n",
      "{'_id': ObjectId('5d2b6fae65bf505ded7c9864')}\n",
      "[ObjectId('5d2b6fae65bf505ded7c9860'), ObjectId('5d2b6fae65bf505ded7c9861'), ObjectId('5d2b6fae65bf505ded7c9862'), ObjectId('5d2b6fae65bf505ded7c9863'), ObjectId('5d2b6fae65bf505ded7c9864')]\n"
     ]
    }
   ],
   "source": [
    "show_all = mycollection.find({}, {'id_':1})\n",
    "for i in show_all:\n",
    "    print(i)\n",
    "print(insertion_results.inserted_ids)"
   ]
  },
  {
   "cell_type": "markdown",
   "metadata": {},
   "source": [
    "## Querying and Filtering\n",
    "\n",
    "In the cell below, return the name and email address for every customer record. Then, print every item from the query to show that it worked correctly. "
   ]
  },
  {
   "cell_type": "code",
   "execution_count": 12,
   "metadata": {},
   "outputs": [
    {
     "name": "stdout",
     "output_type": "stream",
     "text": [
      "{'_id': ObjectId('5d2b6fae65bf505ded7c9860'), 'Name': 'John Smith', 'Email': 'j.smith@thesmiths.com'}\n",
      "{'_id': ObjectId('5d2b6fae65bf505ded7c9861'), 'Name': 'Jane Smith', 'Email': 'jane_smith@thesmiths.com'}\n",
      "{'_id': ObjectId('5d2b6fae65bf505ded7c9862'), 'Name': 'Adam Enbar', 'Email': 'adam@theflatironschool.com'}\n",
      "{'_id': ObjectId('5d2b6fae65bf505ded7c9863'), 'Name': 'Avi Flombaum', 'Email': 'avi@theflatironschool.com'}\n",
      "{'_id': ObjectId('5d2b6fae65bf505ded7c9864'), 'Name': 'Steven S.', 'Email': 'steven.s@gmail.net'}\n"
     ]
    }
   ],
   "source": [
    "query_1 = mycollection.find({}, {'Name':1, 'Email':1})\n",
    "for i in query_1:\n",
    "    print(i)"
   ]
  },
  {
   "cell_type": "markdown",
   "metadata": {},
   "source": [
    "Great! Now, let's write a query that gets an individual record based on a stored key-value pair a document contains. \n",
    "\n",
    "In the cell below, write a query to get the record for John Smith by using his name. Then, print the results of the query to demonstrate that it worked correctly.  "
   ]
  },
  {
   "cell_type": "code",
   "execution_count": 14,
   "metadata": {},
   "outputs": [
    {
     "name": "stdout",
     "output_type": "stream",
     "text": [
      "{'_id': ObjectId('5d2b6fae65bf505ded7c9860'), 'Name': 'John Smith', 'Email': 'j.smith@thesmiths.com', 'Mailing_Address': '123 mulberry lane', 'Balance': 0.0, 'Notes': 'Called technical support, issue not yet resolved.'}\n"
     ]
    }
   ],
   "source": [
    "query_2 = mycollection.find({'Name':'John Smith'})\n",
    "for i in query_2:\n",
    "    print(i)"
   ]
  },
  {
   "cell_type": "markdown",
   "metadata": {},
   "source": [
    "Great! Now, write a query to get the names, email addresses, and balances for customers that have a balance greater than 0. Use a modifier to do this. \n",
    "\n",
    "**_HINT_**: In the query below, you'll be passing in two separate dictionaries. The first one defines the logic of the query, while the second tells which fields we want returned. "
   ]
  },
  {
   "cell_type": "code",
   "execution_count": 15,
   "metadata": {},
   "outputs": [
    {
     "name": "stdout",
     "output_type": "stream",
     "text": [
      "{'_id': ObjectId('5d2b6fae65bf505ded7c9861'), 'Name': 'Jane Smith', 'Email': 'jane_smith@thesmiths.com', 'Balance': 25.0}\n",
      "{'_id': ObjectId('5d2b6fae65bf505ded7c9862'), 'Name': 'Adam Enbar', 'Email': 'adam@theflatironschool.com', 'Mailing_Address': '11 Broadway', 'Balance': 14.99, 'Notes': 'Set up on recurring billing cycle.'}\n"
     ]
    }
   ],
   "source": [
    "query_3 = mycollection.find({'Balance': {'$gt': 0}}, {'Name': 1, 'Email': 1, 'Balance': 1},)\n",
    "for item in query_3:\n",
    "    print(item)"
   ]
  },
  {
   "cell_type": "markdown",
   "metadata": {},
   "source": [
    "## Updating a Record\n",
    "\n",
    "Now, let's update some records. In the cell below. set the mailing address for Steven S. to `'367 55th St., apt 2A'`."
   ]
  },
  {
   "cell_type": "code",
   "execution_count": 20,
   "metadata": {},
   "outputs": [
    {
     "name": "stdout",
     "output_type": "stream",
     "text": [
      "{'_id': ObjectId('5d2b6fae65bf505ded7c9860'), 'Name': 'John Smith', 'Email': 'j.smith@thesmiths.com', 'Mailing_Address': '367 55th St., apt 2A', 'Balance': 0.0, 'Notes': 'Called technical support, issue not yet resolved.'}\n",
      "{'_id': ObjectId('5d2b6fae65bf505ded7c9861'), 'Name': 'Jane Smith', 'Email': 'jane_smith@thesmiths.com', 'Balance': 25.0}\n",
      "{'_id': ObjectId('5d2b6fae65bf505ded7c9862'), 'Name': 'Adam Enbar', 'Email': 'adam@theflatironschool.com', 'Mailing_Address': '11 Broadway', 'Balance': 14.99, 'Notes': 'Set up on recurring billing cycle.'}\n",
      "{'_id': ObjectId('5d2b6fae65bf505ded7c9863'), 'Name': 'Avi Flombaum', 'Email': 'avi@theflatironschool.com', 'Mailing_Address': '11 Broadway', 'Balance': 0.0}\n",
      "{'_id': ObjectId('5d2b6fae65bf505ded7c9864'), 'Name': 'Steven S.', 'Email': 'steven.s@gmail.net', 'Balance': -20.23, 'Notes': 'Refunded for overpayment due to price match guarantee.'}\n"
     ]
    }
   ],
   "source": [
    "record_to_update_1 = {'Name': 'John Smith'}\n",
    "update_1 = {'$set': {'Mailing_Address': '367 55th St., apt 2A'}}\n",
    "mycollection.update_one(record_to_update_1, update_1)\n",
    "for i in mycollection.find({}):\n",
    "    print(i)"
   ]
  },
  {
   "cell_type": "markdown",
   "metadata": {},
   "source": [
    "Now, write a query to check that the update worked for this document in the cell below. "
   ]
  },
  {
   "cell_type": "code",
   "execution_count": 21,
   "metadata": {},
   "outputs": [
    {
     "name": "stdout",
     "output_type": "stream",
     "text": [
      "{'_id': ObjectId('5d2b6fae65bf505ded7c9860'), 'Name': 'John Smith', 'Email': 'j.smith@thesmiths.com', 'Mailing_Address': '367 55th St., apt 2A', 'Balance': 0.0, 'Notes': 'Called technical support, issue not yet resolved.'}\n"
     ]
    }
   ],
   "source": [
    "query_4 = {'Name': 'John Smith'}\n",
    "for i in mycollection.find(query_4):\n",
    "    print(i)\n"
   ]
  },
  {
   "cell_type": "markdown",
   "metadata": {},
   "source": [
    "Now, let's assume that we want to add birthdays for each customer record. Consider the following table:\n",
    "\n",
    "|     Name     |  Birthday  |\n",
    "|:------------:|:----------:|\n",
    "|  John Smith  | 02/20/1986 |\n",
    "|  Jane Smith  | 07/07/1983 |\n",
    "|  Adam Enbar  | 12/02/1982 |\n",
    "| Avi Flombaum | 04/17/1983 |\n",
    "|   Steven S.  | 08/30/1991 |\n",
    "\n",
    "We want to add birthdays for each person, but we want to do so in a way where we don't have to do the same repetitive task over and over again. This seems like a good opportunity to write a function to handle some of the logic for us!\n",
    "\n",
    "In the cell below:\n",
    "\n",
    "* Store the names in the `names_list` variable as a list.\n",
    "* Store the birthdays in the `birthdays_list` variable as a list.\n",
    "* Write a function that takes in the two different lists, and updates each record by adding in the appropriate key-value pair containing that user's birthday.\n",
    "\n",
    "**_Hint:_** There are several ways that you could write this, depending on whether you want to use the `update_one()` method or the `update_many()` method. See if you can figure out both approaches!"
   ]
  },
  {
   "cell_type": "code",
   "execution_count": 22,
   "metadata": {},
   "outputs": [],
   "source": [
    "names_list = ['John Smith', 'Jane Smith', 'Adam Enbar', 'Avi Flombaum', 'Steven S.']\n",
    "birthdays_list = ['02/20/1986', '07/07/1983', '12/02/0982', '04/17/1983', '08/30/1991']\n",
    "\n",
    "def update_birthdays(names, birthdays):\n",
    "    for ind, name in enumerate(names):\n",
    "        birthday = birthdays_list[ind]\n",
    "        query = {'Name': name}\n",
    "        update = {'$set': {'Birthday': birthday}}\n",
    "        mycollection.update_one(query, update)\n",
    "        \n",
    "update_birthdays(names_list, birthdays_list)"
   ]
  },
  {
   "cell_type": "markdown",
   "metadata": {},
   "source": [
    "Now, write a query to check your work and see that the birthdays were added correctly."
   ]
  },
  {
   "cell_type": "code",
   "execution_count": 23,
   "metadata": {},
   "outputs": [
    {
     "data": {
      "text/plain": [
       "[{'_id': ObjectId('5d2b6fae65bf505ded7c9860'),\n",
       "  'Name': 'John Smith',\n",
       "  'Email': 'j.smith@thesmiths.com',\n",
       "  'Mailing_Address': '367 55th St., apt 2A',\n",
       "  'Balance': 0.0,\n",
       "  'Notes': 'Called technical support, issue not yet resolved.',\n",
       "  'Birthday': '02/20/1986'},\n",
       " {'_id': ObjectId('5d2b6fae65bf505ded7c9861'),\n",
       "  'Name': 'Jane Smith',\n",
       "  'Email': 'jane_smith@thesmiths.com',\n",
       "  'Balance': 25.0,\n",
       "  'Birthday': '07/07/1983'},\n",
       " {'_id': ObjectId('5d2b6fae65bf505ded7c9862'),\n",
       "  'Name': 'Adam Enbar',\n",
       "  'Email': 'adam@theflatironschool.com',\n",
       "  'Mailing_Address': '11 Broadway',\n",
       "  'Balance': 14.99,\n",
       "  'Notes': 'Set up on recurring billing cycle.',\n",
       "  'Birthday': '12/02/0982'},\n",
       " {'_id': ObjectId('5d2b6fae65bf505ded7c9863'),\n",
       "  'Name': 'Avi Flombaum',\n",
       "  'Email': 'avi@theflatironschool.com',\n",
       "  'Mailing_Address': '11 Broadway',\n",
       "  'Balance': 0.0,\n",
       "  'Birthday': '04/17/1983'},\n",
       " {'_id': ObjectId('5d2b6fae65bf505ded7c9864'),\n",
       "  'Name': 'Steven S.',\n",
       "  'Email': 'steven.s@gmail.net',\n",
       "  'Balance': -20.23,\n",
       "  'Notes': 'Refunded for overpayment due to price match guarantee.',\n",
       "  'Birthday': '08/30/1991'}]"
      ]
     },
     "execution_count": 23,
     "metadata": {},
     "output_type": "execute_result"
    }
   ],
   "source": [
    "[i for i in mycollection.find()]"
   ]
  },
  {
   "cell_type": "markdown",
   "metadata": {},
   "source": [
    "Great! It looks like the birthdays have been successfully added to every record correctly!\n",
    "\n",
    "## Summary\n",
    "\n",
    "In this lesson, we got some hands-on practice working with MongoDB!"
   ]
  }
 ],
 "metadata": {
  "kernelspec": {
   "display_name": "Python 3",
   "language": "python",
   "name": "python3"
  },
  "language_info": {
   "codemirror_mode": {
    "name": "ipython",
    "version": 3
   },
   "file_extension": ".py",
   "mimetype": "text/x-python",
   "name": "python",
   "nbconvert_exporter": "python",
   "pygments_lexer": "ipython3",
   "version": "3.6.6"
  },
  "toc": {
   "base_numbering": 1,
   "nav_menu": {},
   "number_sections": true,
   "sideBar": true,
   "skip_h1_title": true,
   "title_cell": "Table of Contents",
   "title_sidebar": "Contents",
   "toc_cell": true,
   "toc_position": {},
   "toc_section_display": true,
   "toc_window_display": false
  },
  "varInspector": {
   "cols": {
    "lenName": 16,
    "lenType": 16,
    "lenVar": 40
   },
   "kernels_config": {
    "python": {
     "delete_cmd_postfix": "",
     "delete_cmd_prefix": "del ",
     "library": "var_list.py",
     "varRefreshCmd": "print(var_dic_list())"
    },
    "r": {
     "delete_cmd_postfix": ") ",
     "delete_cmd_prefix": "rm(",
     "library": "var_list.r",
     "varRefreshCmd": "cat(var_dic_list()) "
    }
   },
   "types_to_exclude": [
    "module",
    "function",
    "builtin_function_or_method",
    "instance",
    "_Feature"
   ],
   "window_display": false
  }
 },
 "nbformat": 4,
 "nbformat_minor": 2
}
